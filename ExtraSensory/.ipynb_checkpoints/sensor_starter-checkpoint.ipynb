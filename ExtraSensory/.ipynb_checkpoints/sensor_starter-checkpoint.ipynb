{
 "cells": [
  {
   "cell_type": "markdown",
   "id": "25a9a279-b47d-44aa-9ea9-d10253667c88",
   "metadata": {},
   "source": [
    "# EE514 assignment part 1 starter code\n",
    "\n",
    "Using sensors to predict activity. This part of the assignment uses the [ExtraSensory dataset](http://extrasensory.ucsd.edu/). You can download the dataset from [here](http://extrasensory.ucsd.edu/data/primary_data_files/ExtraSensory.per_uuid_features_labels.zip). The starter code expects that this dataset has been unpacked in a folder called `data` that is in the same parent folder as this notebook. You can read more about the dataset in [this README file](http://extrasensory.ucsd.edu/data/primary_data_files/README.txt)."
   ]
  },
  {
   "cell_type": "code",
   "execution_count": 1,
   "id": "897648f7-43a4-4217-83a8-cb22bbc54e3d",
   "metadata": {},
   "outputs": [],
   "source": [
    "import pandas as pd\n",
    "import numpy as np\n",
    "from pathlib import Path\n",
    "import sklearn.metrics as metrics\n",
    "import matplotlib.pyplot as plpyt\n",
    "\n",
    "from sklearn.linear_model import LogisticRegression\n",
    "from sklearn.preprocessing import StandardScaler\n",
    "from sklearn.impute import SimpleImputer\n",
    "\n",
    "import os"
   ]
  },
  {
   "cell_type": "markdown",
   "id": "f02ea934-d263-4dc9-965b-fa4d4ae3e977",
   "metadata": {},
   "source": [
    "## Location of the .csv.gz files"
   ]
  },
  {
   "cell_type": "code",
   "execution_count": 2,
   "id": "55c960ee-84f2-4b30-90c0-0171abb043f6",
   "metadata": {},
   "outputs": [],
   "source": [
    "data_dir = Path('data')"
   ]
  },
  {
   "cell_type": "markdown",
   "id": "8d941e9d-540a-4bf1-a98f-4bd36cb502b2",
   "metadata": {},
   "source": [
    "## Some utility functions\n",
    "\n",
    "The first one loads a pandas dataframe given a user UUID. The second one extracts specified feature columns $X$ and target column $y$ from a dataframe and converts these to numpy."
   ]
  },
  {
   "cell_type": "code",
   "execution_count": 3,
   "id": "5375caaf-5b51-42a9-a746-d585a7831c3a",
   "metadata": {},
   "outputs": [],
   "source": [
    "def load_data_for_user(uuid):\n",
    "    return pd.read_csv(data_dir / (uuid + '.features_labels.csv.gz'))\n",
    "\n",
    "def get_features_and_target(df, feature_names, target_name):\n",
    "    \n",
    "    # select out features and target columns and convert to numpy\n",
    "    X = df[feature_names].to_numpy()\n",
    "    y = df[target_name].to_numpy()\n",
    "    \n",
    "    # remove examples with no label\n",
    "    has_label = ~np.isnan(y)\n",
    "    X = X[has_label,:]\n",
    "    y = y[has_label]\n",
    "    return X, y"
   ]
  },
  {
   "cell_type": "markdown",
   "id": "905d5f3a-7eb3-4723-aff7-73f031acaea0",
   "metadata": {},
   "source": [
    "## Load in some data \n",
    "Load in the data for a user and display the first few rows of the dataframe"
   ]
  },
  {
   "cell_type": "code",
   "execution_count": 4,
   "id": "17270baa-1152-4d01-91b8-0f9fe8a2f779",
   "metadata": {},
   "outputs": [],
   "source": [
    "uuid_list =  [ i[:i.find('.')] for i in os.listdir(data_dir) ]\n",
    "for i in uuid_list:\n",
    "    df = load_data_for_user(i)\n",
    "    df.head()\n",
    "# df = load_data_for_user('1155FF54-63D3-4AB2-9863-8385D0BD0A13')\n",
    "# df.head([]"
   ]
  },
  {
   "cell_type": "markdown",
   "id": "5fd70239-1295-485d-a9e8-16f6d441e818",
   "metadata": {},
   "source": [
    "## What columns are available?"
   ]
  },
  {
   "cell_type": "code",
   "execution_count": 5,
   "id": "dc216774-2ce2-42c4-afdb-fcd8d7a78402",
   "metadata": {},
   "outputs": [
    {
     "name": "stdout",
     "output_type": "stream",
     "text": [
      "['timestamp', 'raw_acc:magnitude_stats:mean', 'raw_acc:magnitude_stats:std', 'raw_acc:magnitude_stats:moment3', 'raw_acc:magnitude_stats:moment4', 'raw_acc:magnitude_stats:percentile25', 'raw_acc:magnitude_stats:percentile50', 'raw_acc:magnitude_stats:percentile75', 'raw_acc:magnitude_stats:value_entropy', 'raw_acc:magnitude_stats:time_entropy', 'raw_acc:magnitude_spectrum:log_energy_band0', 'raw_acc:magnitude_spectrum:log_energy_band1', 'raw_acc:magnitude_spectrum:log_energy_band2', 'raw_acc:magnitude_spectrum:log_energy_band3', 'raw_acc:magnitude_spectrum:log_energy_band4', 'raw_acc:magnitude_spectrum:spectral_entropy', 'raw_acc:magnitude_autocorrelation:period', 'raw_acc:magnitude_autocorrelation:normalized_ac', 'raw_acc:3d:mean_x', 'raw_acc:3d:mean_y', 'raw_acc:3d:mean_z', 'raw_acc:3d:std_x', 'raw_acc:3d:std_y', 'raw_acc:3d:std_z', 'raw_acc:3d:ro_xy', 'raw_acc:3d:ro_xz', 'raw_acc:3d:ro_yz', 'proc_gyro:magnitude_stats:mean', 'proc_gyro:magnitude_stats:std', 'proc_gyro:magnitude_stats:moment3', 'proc_gyro:magnitude_stats:moment4', 'proc_gyro:magnitude_stats:percentile25', 'proc_gyro:magnitude_stats:percentile50', 'proc_gyro:magnitude_stats:percentile75', 'proc_gyro:magnitude_stats:value_entropy', 'proc_gyro:magnitude_stats:time_entropy', 'proc_gyro:magnitude_spectrum:log_energy_band0', 'proc_gyro:magnitude_spectrum:log_energy_band1', 'proc_gyro:magnitude_spectrum:log_energy_band2', 'proc_gyro:magnitude_spectrum:log_energy_band3', 'proc_gyro:magnitude_spectrum:log_energy_band4', 'proc_gyro:magnitude_spectrum:spectral_entropy', 'proc_gyro:magnitude_autocorrelation:period', 'proc_gyro:magnitude_autocorrelation:normalized_ac', 'proc_gyro:3d:mean_x', 'proc_gyro:3d:mean_y', 'proc_gyro:3d:mean_z', 'proc_gyro:3d:std_x', 'proc_gyro:3d:std_y', 'proc_gyro:3d:std_z', 'proc_gyro:3d:ro_xy', 'proc_gyro:3d:ro_xz', 'proc_gyro:3d:ro_yz', 'raw_magnet:magnitude_stats:mean', 'raw_magnet:magnitude_stats:std', 'raw_magnet:magnitude_stats:moment3', 'raw_magnet:magnitude_stats:moment4', 'raw_magnet:magnitude_stats:percentile25', 'raw_magnet:magnitude_stats:percentile50', 'raw_magnet:magnitude_stats:percentile75', 'raw_magnet:magnitude_stats:value_entropy', 'raw_magnet:magnitude_stats:time_entropy', 'raw_magnet:magnitude_spectrum:log_energy_band0', 'raw_magnet:magnitude_spectrum:log_energy_band1', 'raw_magnet:magnitude_spectrum:log_energy_band2', 'raw_magnet:magnitude_spectrum:log_energy_band3', 'raw_magnet:magnitude_spectrum:log_energy_band4', 'raw_magnet:magnitude_spectrum:spectral_entropy', 'raw_magnet:magnitude_autocorrelation:period', 'raw_magnet:magnitude_autocorrelation:normalized_ac', 'raw_magnet:3d:mean_x', 'raw_magnet:3d:mean_y', 'raw_magnet:3d:mean_z', 'raw_magnet:3d:std_x', 'raw_magnet:3d:std_y', 'raw_magnet:3d:std_z', 'raw_magnet:3d:ro_xy', 'raw_magnet:3d:ro_xz', 'raw_magnet:3d:ro_yz', 'raw_magnet:avr_cosine_similarity_lag_range0', 'raw_magnet:avr_cosine_similarity_lag_range1', 'raw_magnet:avr_cosine_similarity_lag_range2', 'raw_magnet:avr_cosine_similarity_lag_range3', 'raw_magnet:avr_cosine_similarity_lag_range4', 'watch_acceleration:magnitude_stats:mean', 'watch_acceleration:magnitude_stats:std', 'watch_acceleration:magnitude_stats:moment3', 'watch_acceleration:magnitude_stats:moment4', 'watch_acceleration:magnitude_stats:percentile25', 'watch_acceleration:magnitude_stats:percentile50', 'watch_acceleration:magnitude_stats:percentile75', 'watch_acceleration:magnitude_stats:value_entropy', 'watch_acceleration:magnitude_stats:time_entropy', 'watch_acceleration:magnitude_spectrum:log_energy_band0', 'watch_acceleration:magnitude_spectrum:log_energy_band1', 'watch_acceleration:magnitude_spectrum:log_energy_band2', 'watch_acceleration:magnitude_spectrum:log_energy_band3', 'watch_acceleration:magnitude_spectrum:log_energy_band4', 'watch_acceleration:magnitude_spectrum:spectral_entropy', 'watch_acceleration:magnitude_autocorrelation:period', 'watch_acceleration:magnitude_autocorrelation:normalized_ac', 'watch_acceleration:3d:mean_x', 'watch_acceleration:3d:mean_y', 'watch_acceleration:3d:mean_z', 'watch_acceleration:3d:std_x', 'watch_acceleration:3d:std_y', 'watch_acceleration:3d:std_z', 'watch_acceleration:3d:ro_xy', 'watch_acceleration:3d:ro_xz', 'watch_acceleration:3d:ro_yz', 'watch_acceleration:spectrum:x_log_energy_band0', 'watch_acceleration:spectrum:x_log_energy_band1', 'watch_acceleration:spectrum:x_log_energy_band2', 'watch_acceleration:spectrum:x_log_energy_band3', 'watch_acceleration:spectrum:x_log_energy_band4', 'watch_acceleration:spectrum:y_log_energy_band0', 'watch_acceleration:spectrum:y_log_energy_band1', 'watch_acceleration:spectrum:y_log_energy_band2', 'watch_acceleration:spectrum:y_log_energy_band3', 'watch_acceleration:spectrum:y_log_energy_band4', 'watch_acceleration:spectrum:z_log_energy_band0', 'watch_acceleration:spectrum:z_log_energy_band1', 'watch_acceleration:spectrum:z_log_energy_band2', 'watch_acceleration:spectrum:z_log_energy_band3', 'watch_acceleration:spectrum:z_log_energy_band4', 'watch_acceleration:relative_directions:avr_cosine_similarity_lag_range0', 'watch_acceleration:relative_directions:avr_cosine_similarity_lag_range1', 'watch_acceleration:relative_directions:avr_cosine_similarity_lag_range2', 'watch_acceleration:relative_directions:avr_cosine_similarity_lag_range3', 'watch_acceleration:relative_directions:avr_cosine_similarity_lag_range4', 'watch_heading:mean_cos', 'watch_heading:std_cos', 'watch_heading:mom3_cos', 'watch_heading:mom4_cos', 'watch_heading:mean_sin', 'watch_heading:std_sin', 'watch_heading:mom3_sin', 'watch_heading:mom4_sin', 'watch_heading:entropy_8bins', 'location:num_valid_updates', 'location:log_latitude_range', 'location:log_longitude_range', 'location:min_altitude', 'location:max_altitude', 'location:min_speed', 'location:max_speed', 'location:best_horizontal_accuracy', 'location:best_vertical_accuracy', 'location:diameter', 'location:log_diameter', 'location_quick_features:std_lat', 'location_quick_features:std_long', 'location_quick_features:lat_change', 'location_quick_features:long_change', 'location_quick_features:mean_abs_lat_deriv', 'location_quick_features:mean_abs_long_deriv', 'audio_naive:mfcc0:mean', 'audio_naive:mfcc1:mean', 'audio_naive:mfcc2:mean', 'audio_naive:mfcc3:mean', 'audio_naive:mfcc4:mean', 'audio_naive:mfcc5:mean', 'audio_naive:mfcc6:mean', 'audio_naive:mfcc7:mean', 'audio_naive:mfcc8:mean', 'audio_naive:mfcc9:mean', 'audio_naive:mfcc10:mean', 'audio_naive:mfcc11:mean', 'audio_naive:mfcc12:mean', 'audio_naive:mfcc0:std', 'audio_naive:mfcc1:std', 'audio_naive:mfcc2:std', 'audio_naive:mfcc3:std', 'audio_naive:mfcc4:std', 'audio_naive:mfcc5:std', 'audio_naive:mfcc6:std', 'audio_naive:mfcc7:std', 'audio_naive:mfcc8:std', 'audio_naive:mfcc9:std', 'audio_naive:mfcc10:std', 'audio_naive:mfcc11:std', 'audio_naive:mfcc12:std', 'audio_properties:max_abs_value', 'audio_properties:normalization_multiplier', 'discrete:app_state:is_active', 'discrete:app_state:is_inactive', 'discrete:app_state:is_background', 'discrete:app_state:missing', 'discrete:battery_plugged:is_ac', 'discrete:battery_plugged:is_usb', 'discrete:battery_plugged:is_wireless', 'discrete:battery_plugged:missing', 'discrete:battery_state:is_unknown', 'discrete:battery_state:is_unplugged', 'discrete:battery_state:is_not_charging', 'discrete:battery_state:is_discharging', 'discrete:battery_state:is_charging', 'discrete:battery_state:is_full', 'discrete:battery_state:missing', 'discrete:on_the_phone:is_False', 'discrete:on_the_phone:is_True', 'discrete:on_the_phone:missing', 'discrete:ringer_mode:is_normal', 'discrete:ringer_mode:is_silent_no_vibrate', 'discrete:ringer_mode:is_silent_with_vibrate', 'discrete:ringer_mode:missing', 'discrete:wifi_status:is_not_reachable', 'discrete:wifi_status:is_reachable_via_wifi', 'discrete:wifi_status:is_reachable_via_wwan', 'discrete:wifi_status:missing', 'lf_measurements:light', 'lf_measurements:pressure', 'lf_measurements:proximity_cm', 'lf_measurements:proximity', 'lf_measurements:relative_humidity', 'lf_measurements:battery_level', 'lf_measurements:screen_brightness', 'lf_measurements:temperature_ambient', 'discrete:time_of_day:between0and6', 'discrete:time_of_day:between3and9', 'discrete:time_of_day:between6and12', 'discrete:time_of_day:between9and15', 'discrete:time_of_day:between12and18', 'discrete:time_of_day:between15and21', 'discrete:time_of_day:between18and24', 'discrete:time_of_day:between21and3', 'label:LYING_DOWN', 'label:SITTING', 'label:FIX_walking', 'label:FIX_running', 'label:BICYCLING', 'label:SLEEPING', 'label:LAB_WORK', 'label:IN_CLASS', 'label:IN_A_MEETING', 'label:LOC_main_workplace', 'label:OR_indoors', 'label:OR_outside', 'label:IN_A_CAR', 'label:ON_A_BUS', 'label:DRIVE_-_I_M_THE_DRIVER', 'label:DRIVE_-_I_M_A_PASSENGER', 'label:LOC_home', 'label:FIX_restaurant', 'label:PHONE_IN_POCKET', 'label:OR_exercise', 'label:COOKING', 'label:SHOPPING', 'label:STROLLING', 'label:DRINKING__ALCOHOL_', 'label:BATHING_-_SHOWER', 'label:CLEANING', 'label:DOING_LAUNDRY', 'label:WASHING_DISHES', 'label:WATCHING_TV', 'label:SURFING_THE_INTERNET', 'label:AT_A_PARTY', 'label:AT_A_BAR', 'label:LOC_beach', 'label:SINGING', 'label:TALKING', 'label:COMPUTER_WORK', 'label:EATING', 'label:TOILET', 'label:GROOMING', 'label:DRESSING', 'label:AT_THE_GYM', 'label:STAIRS_-_GOING_UP', 'label:STAIRS_-_GOING_DOWN', 'label:ELEVATOR', 'label:OR_standing', 'label:AT_SCHOOL', 'label:PHONE_IN_HAND', 'label:PHONE_IN_BAG', 'label:PHONE_ON_TABLE', 'label:WITH_CO-WORKERS', 'label:WITH_FRIENDS', 'label_source']\n"
     ]
    }
   ],
   "source": [
    "print(df.columns.to_list())"
   ]
  },
  {
   "cell_type": "markdown",
   "id": "a028999e-a767-4df7-a0ba-d510acc436cc",
   "metadata": {},
   "source": [
    "## Feature selection"
   ]
  },
  {
   "cell_type": "markdown",
   "id": "95728052-40a5-47bd-a675-9cfd341792cf",
   "metadata": {},
   "source": [
    "The columns that start with `label:` correspond to potential y values. Let's look at using the accelerometer features. These start with `raw_acc:` and `watch_acceleration:`"
   ]
  },
  {
   "cell_type": "code",
   "execution_count": 6,
   "id": "cd1e3a64-26ea-418a-86b4-3fbb49dabf27",
   "metadata": {},
   "outputs": [],
   "source": [
    "acc_sensors = [s for s in df.columns if \n",
    "               s.startswith('raw_acc:') or \n",
    "               s.startswith('watch_acceleration:')]\n",
    "\n",
    "target_column = 'label:FIX_walking'"
   ]
  },
  {
   "cell_type": "markdown",
   "id": "2bf2f4ff-f7f0-4b1a-9323-12cba433f698",
   "metadata": {},
   "source": [
    "## Extract our training data"
   ]
  },
  {
   "cell_type": "code",
   "execution_count": 7,
   "id": "7b247579-c2e8-44e8-b6de-d149a53fe146",
   "metadata": {},
   "outputs": [
    {
     "name": "stdout",
     "output_type": "stream",
     "text": [
      "1665 examples with 95.0 positives\n"
     ]
    }
   ],
   "source": [
    "X_train, y_train = get_features_and_target(df, acc_sensors, target_column)\n",
    "print(f'{y_train.shape[0]} examples with {y_train.sum()} positives')"
   ]
  },
  {
   "cell_type": "markdown",
   "id": "19f1be31-21e2-4dcc-9f26-97966a180c7c",
   "metadata": {},
   "source": [
    "## Preprocessing\n",
    "\n",
    "We want to make the learning problem easier by making all columns have a mean of zero and a standard deviation of one. There are also lots of missing values in this dataset. We'll use mean imputation here to get rid of them. Since our data is scaled to have zero mean, this will just zero out missing values."
   ]
  },
  {
   "cell_type": "code",
   "execution_count": 8,
   "id": "40b18483-3349-492f-a210-d6bbba28af7d",
   "metadata": {},
   "outputs": [],
   "source": [
    "scaler = StandardScaler()\n",
    "imputer = SimpleImputer(strategy='mean')\n",
    "\n",
    "X_train = scaler.fit_transform(X_train)\n",
    "X_train = imputer.fit_transform(X_train)"
   ]
  },
  {
   "cell_type": "markdown",
   "id": "dbabbdb5-cf29-439a-9abc-4ea4eabd2b58",
   "metadata": {},
   "source": [
    "## Fitting a model\n",
    "Let's fit a logistic regression model to this user. We can then test it's predictive power on a different user"
   ]
  },
  {
   "cell_type": "code",
   "execution_count": 9,
   "id": "68b6ef15-a0e8-4114-a4b9-328fbc242dbb",
   "metadata": {},
   "outputs": [
    {
     "data": {
      "text/plain": [
       "LogisticRegression(max_iter=1000, solver='liblinear')"
      ]
     },
     "execution_count": 9,
     "metadata": {},
     "output_type": "execute_result"
    }
   ],
   "source": [
    "clf = LogisticRegression(solver='liblinear', max_iter=1000, C=1.0)\n",
    "clf.fit(X_train, y_train)"
   ]
  },
  {
   "cell_type": "markdown",
   "id": "bea7fe9a-c494-446c-b28f-3a80abe4839f",
   "metadata": {},
   "source": [
    "## Training accuracy\n",
    "\n",
    "Let's see the accuracy on the training set. The score function can be used to do this:"
   ]
  },
  {
   "cell_type": "code",
   "execution_count": 10,
   "id": "96f2510f-5c11-45dd-9792-457e250c90a6",
   "metadata": {},
   "outputs": [
    {
     "name": "stdout",
     "output_type": "stream",
     "text": [
      "Training accuracy: 0.9483\n"
     ]
    }
   ],
   "source": [
    "print(f'Training accuracy: {clf.score(X_train, y_train):0.4f}')"
   ]
  },
  {
   "cell_type": "markdown",
   "id": "6bb920a4-8df8-491a-927d-24989079231a",
   "metadata": {},
   "source": [
    "Looks like the model can fit the training data reasonably well anyway. But this says nothing about how well it will generalize to new data. The dataset is also unbalanced, so this figure may be misleading. How accurate would we be if we just predicted zero each time?"
   ]
  },
  {
   "cell_type": "code",
   "execution_count": 11,
   "id": "2577d894-2528-4095-ae14-91bed84de656",
   "metadata": {},
   "outputs": [
    {
     "data": {
      "text/plain": [
       "0.9429429429429429"
      ]
     },
     "execution_count": 11,
     "metadata": {},
     "output_type": "execute_result"
    }
   ],
   "source": [
    "1 - y_train.sum() / y_train.shape[0]"
   ]
  },
  {
   "cell_type": "markdown",
   "id": "e932f3b5-f84a-4bf3-adaa-73de83676362",
   "metadata": {},
   "source": [
    "Oh wow. Our model may not be that great after all. Let's try to calculate balanced accuracy, which should better reflect how well the model does on the training data"
   ]
  },
  {
   "cell_type": "code",
   "execution_count": 12,
   "id": "c6b817c4-971e-45ed-846f-f7fd9e0c9283",
   "metadata": {},
   "outputs": [
    {
     "name": "stdout",
     "output_type": "stream",
     "text": [
      "Balanced accuracy (train): 0.5721\n"
     ]
    }
   ],
   "source": [
    "y_pred = clf.predict(X_train)\n",
    "print(f'Balanced accuracy (train): {metrics.balanced_accuracy_score(y_train, y_pred):0.4f}')"
   ]
  },
  {
   "cell_type": "markdown",
   "id": "f55cb569-437b-4c5e-a6d7-8489e7918304",
   "metadata": {},
   "source": [
    "## Testing the model\n",
    "\n",
    "Ok, it seems our model has fit the training data well. How well does it perform on unseen test data? Let's load the data in for a different user."
   ]
  },
  {
   "cell_type": "code",
   "execution_count": 13,
   "id": "bfabfefd-26fa-46c6-9790-e378cea03028",
   "metadata": {},
   "outputs": [
    {
     "name": "stdout",
     "output_type": "stream",
     "text": [
      "1665 examples with 95.0 positives\n"
     ]
    }
   ],
   "source": [
    "df_test = load_data_for_user('11B5EC4D-4133-4289-B475-4E737182A406')\n",
    "X_test, y_test = get_features_and_target(df_test, acc_sensors, target_column)\n",
    "print(f'{y_train.shape[0]} examples with {y_train.sum()} positives')"
   ]
  },
  {
   "cell_type": "markdown",
   "id": "4938c94f-5767-40ec-bbd4-c05dcd334e38",
   "metadata": {},
   "source": [
    "We also need to preprocess as before. **Note**: we are using the scaler and imputer fit to the training data here. It's very important that you do not call `fit` or `fit_transform` here! Think about why."
   ]
  },
  {
   "cell_type": "code",
   "execution_count": 14,
   "id": "4b6fd7e9-7657-48a3-a393-c339a74344d3",
   "metadata": {},
   "outputs": [],
   "source": [
    "X_test = imputer.transform(scaler.transform(X_test))"
   ]
  },
  {
   "cell_type": "markdown",
   "id": "c131312f-246c-4509-b45a-ea5a83ffab4b",
   "metadata": {},
   "source": [
    "## Test accuracy"
   ]
  },
  {
   "cell_type": "code",
   "execution_count": 15,
   "id": "dd9cb70b-24b7-4812-88ce-f94aa4ad0070",
   "metadata": {},
   "outputs": [
    {
     "name": "stdout",
     "output_type": "stream",
     "text": [
      "Test accuracy: 0.9767\n"
     ]
    }
   ],
   "source": [
    "print(f'Test accuracy: {clf.score(X_test, y_test):0.4f}')"
   ]
  },
  {
   "cell_type": "code",
   "execution_count": 16,
   "id": "63264b98-5c2a-4e62-805f-e58ff3860736",
   "metadata": {},
   "outputs": [
    {
     "name": "stdout",
     "output_type": "stream",
     "text": [
      "Balanced accuracy (train): 0.6866\n"
     ]
    }
   ],
   "source": [
    "y_pred = clf.predict(X_test)\n",
    "print(f'Balanced accuracy (train): {metrics.balanced_accuracy_score(y_test, y_pred):0.4f}')"
   ]
  },
  {
   "cell_type": "code",
   "execution_count": null,
   "id": "06526bea-34ec-4095-af1e-e3b88049b686",
   "metadata": {},
   "outputs": [],
   "source": []
  }
 ],
 "metadata": {
  "kernelspec": {
   "display_name": "Python 3 (ipykernel)",
   "language": "python",
   "name": "python3"
  },
  "language_info": {
   "codemirror_mode": {
    "name": "ipython",
    "version": 3
   },
   "file_extension": ".py",
   "mimetype": "text/x-python",
   "name": "python",
   "nbconvert_exporter": "python",
   "pygments_lexer": "ipython3",
   "version": "3.10.3"
  },
  "vscode": {
   "interpreter": {
    "hash": "de5bd3e628ad0dd83a2652142723329d3fe44eec9ac1e27251e5f29e3e4ff465"
   }
  }
 },
 "nbformat": 4,
 "nbformat_minor": 5
}
