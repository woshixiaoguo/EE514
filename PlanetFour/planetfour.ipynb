{
 "cells": [
  {
   "cell_type": "markdown",
   "id": "1e4b5617-aa46-4385-9964-a3bac5ae5a15",
   "metadata": {},
   "source": [
    "## Planet four image classification"
   ]
  },
  {
   "cell_type": "code",
   "execution_count": 1,
   "id": "746335e6-87ca-4786-ada5-a042ad526425",
   "metadata": {},
   "outputs": [],
   "source": [
    "import numpy as np\n",
    "import matplotlib.pyplot as plt\n",
    "import pandas as pd\n",
    "\n",
    "import torch\n",
    "import torch.nn.functional as F\n",
    "import torch.nn as nn\n",
    "import torch.optim as optim\n",
    "import torchvision.transforms as transforms\n",
    "import torchvision.models as models\n",
    "import sklearn.metrics as metrics\n",
    "import tqdm\n",
    "\n",
    "from torch.utils.data import DataLoader\n",
    "from torchvision.datasets.folder import pil_loader\n",
    "from pathlib import Path\n",
    "from PIL import Image\n",
    "\n",
    "import os"
   ]
  },
  {
   "cell_type": "markdown",
   "id": "2c002513-1fe7-4786-88cd-07d35fc0b430",
   "metadata": {},
   "source": [
    "Change the device to \"cpu\" if you want to train on a CPU instead of a GPU."
   ]
  },
  {
   "cell_type": "code",
   "execution_count": 2,
   "id": "bad120f2-9393-4c57-87a7-8197e9a1245d",
   "metadata": {},
   "outputs": [],
   "source": [
    "device = 'cuda'\n",
    "os.environ['CUDA_VISIBLE_DEVICES'] = '1'  # 使用第二张显卡"
   ]
  },
  {
   "cell_type": "markdown",
   "id": "837c532e-5cfc-4216-a321-419968407f37",
   "metadata": {},
   "source": [
    "## Dataset\n",
    "\n",
    "Here we define a custom Dataset object for the Planet Four data. You can read more about this in the PyTorch documentation: https://pytorch.org/tutorials/beginner/basics/data_tutorial.html"
   ]
  },
  {
   "cell_type": "code",
   "execution_count": 3,
   "id": "ba9356db-6837-4444-bdab-a4aea56007a9",
   "metadata": {},
   "outputs": [],
   "source": [
    "class PlanetFourDataset(object):\n",
    "    def __init__(self, split='train', transform=None, loader=pil_loader):\n",
    "        super().__init__()\n",
    "        self.split = split\n",
    "        self.base_dir = Path('data/planetfour')  # 数据集路径\n",
    "        self.image_dir = self.base_dir / split\n",
    "        self.labels_file = self.base_dir / (split + '.csv')\n",
    "        self.labels_df = pd.read_csv(self.labels_file)\n",
    "        self.transform = transform\n",
    "        self.loader = loader\n",
    "        \n",
    "    def __getitem__(self, index):\n",
    "        row = self.labels_df.iloc[index]\n",
    "        filename = self.image_dir / (row.tile_id + '.jpg')\n",
    "        fans = int(row.fans)\n",
    "        blotches = int(row.blotches)\n",
    "        image = self.loader(str(filename))\n",
    "        if self.transform is not None:\n",
    "            image = self.transform(image)\n",
    "        return image, torch.tensor([fans, blotches], dtype=torch.float32)\n",
    "    \n",
    "    def __len__(self):\n",
    "        return len(self.labels_df)"
   ]
  },
  {
   "cell_type": "markdown",
   "id": "bb6ef1da-a034-4d88-bbab-64dbce05da6a",
   "metadata": {},
   "source": [
    "## Data augmentation\n",
    "\n",
    "It is standard practice in deep learning to augment the training examples to prevent the network from overfitting. Here I use some standard augmentations such as randomly mirroring the images."
   ]
  },
  {
   "cell_type": "code",
   "execution_count": 4,
   "id": "198239e2-84ff-4e33-a1dd-7b9a18f68d49",
   "metadata": {},
   "outputs": [],
   "source": [
    "train_transform = transforms.Compose([\n",
    "    transforms.RandomHorizontalFlip(),\n",
    "    transforms.ToTensor(),\n",
    "    transforms.Normalize((0.4914, 0.4822, 0.4465), (0.2023, 0.1994, 0.2010))                  \n",
    "])\n",
    "\n",
    "valid_transform = transforms.Compose([\n",
    "    transforms.ToTensor(),\n",
    "    transforms.Normalize((0.4914, 0.4822, 0.4465), (0.2023, 0.1994, 0.2010)) \n",
    "])"
   ]
  },
  {
   "cell_type": "markdown",
   "id": "7d7a5b9c-33a6-4bfc-a699-05f3415de676",
   "metadata": {},
   "source": [
    "## Data loaders\n",
    "\n",
    "In PyTorch, the data loaders take care of spinning up threads to load batches of data into memory from the dataset object."
   ]
  },
  {
   "cell_type": "code",
   "execution_count": 5,
   "id": "f8b2fb4c-e711-49a0-9a21-fb8249972ffc",
   "metadata": {},
   "outputs": [],
   "source": [
    "train_set = PlanetFourDataset('train', transform=train_transform)\n",
    "valid_set = PlanetFourDataset('valid', transform=train_transform)\n",
    "\n",
    "train_loader = DataLoader(train_set, batch_size=64, shuffle=True)\n",
    "valid_loader = DataLoader(valid_set, batch_size=64, shuffle=False)"
   ]
  },
  {
   "cell_type": "markdown",
   "id": "1bbd1e9b-801b-4da5-975a-6c061b16b005",
   "metadata": {},
   "source": [
    "## Load a pretrained model\n",
    "\n",
    "Here we'll use ResNet50 model that has been pretrained on ImageNet and replace the final layer with a new one suited to our problem."
   ]
  },
  {
   "cell_type": "code",
   "execution_count": 6,
   "id": "9e84455f-5c9c-4ccd-a107-bf19e6fec48e",
   "metadata": {},
   "outputs": [],
   "source": [
    "model = models.resnet50(pretrained=True)\n",
    "model.fc = nn.Linear(2048, 2)\n",
    "model.to(device);"
   ]
  },
  {
   "cell_type": "markdown",
   "id": "8f3d8cc2-2be4-48e7-aa2e-f35d7a835796",
   "metadata": {},
   "source": [
    "## Loss\n",
    "\n",
    "Images can contain fans, blotches, both, or neither. You could treat this as a four class softmax problem, or two binary classification problems. Here I take the latter approach and use a binary cross entropy loss. "
   ]
  },
  {
   "cell_type": "code",
   "execution_count": 7,
   "id": "6729d82b-3a4c-4036-a95d-70695d528bb5",
   "metadata": {},
   "outputs": [],
   "source": [
    "criterion = nn.BCEWithLogitsLoss()"
   ]
  },
  {
   "cell_type": "markdown",
   "id": "426c8e89-d806-420f-a76c-ab10d1d4e406",
   "metadata": {},
   "source": [
    "## Optimizer\n",
    "\n",
    "Stochastic gradient descent with momentum"
   ]
  },
  {
   "cell_type": "code",
   "execution_count": 8,
   "id": "8eac8696-3a99-40c1-ab9f-d95971bd1f40",
   "metadata": {},
   "outputs": [],
   "source": [
    "optimizer = optim.SGD(model.parameters(), lr=0.001, momentum=0.9, weight_decay=1e-4)"
   ]
  },
  {
   "cell_type": "markdown",
   "id": "d5c709bf-c5cb-433b-b8af-678759182eef",
   "metadata": {},
   "source": [
    "## Training and validation functions"
   ]
  },
  {
   "cell_type": "code",
   "execution_count": 9,
   "id": "26eb5f0c-7b1d-49f1-8682-097d0ae64e54",
   "metadata": {},
   "outputs": [],
   "source": [
    "avg_train_losses = []\n",
    "avg_valid_losses = []\n",
    "valid_accuracies = []\n",
    "\n",
    "\n",
    "def train_for_epoch(optimizer):\n",
    "    model.train()\n",
    "\n",
    "    train_losses = []\n",
    "\n",
    "    for batch, target in tqdm.tqdm(train_loader):\n",
    "\n",
    "        # data to GPU\n",
    "        batch = batch.to(device)\n",
    "        target = target.to(device)\n",
    "\n",
    "        # reset optimizer\n",
    "        optimizer.zero_grad()\n",
    "\n",
    "        # forward pass\n",
    "        predictions = model(batch)\n",
    "        #breakpoint()\n",
    "\n",
    "        # calculate loss\n",
    "        loss = criterion(predictions, target)\n",
    "\n",
    "        # backward pass\n",
    "        loss.backward()\n",
    "\n",
    "        # parameter update\n",
    "        optimizer.step()\n",
    "\n",
    "        # track loss\n",
    "        train_losses.append(float(loss.item()))\n",
    "\n",
    "    train_losses = np.array(train_losses)\n",
    "    return train_losses\n",
    "\n",
    "\n",
    "def validate():\n",
    "    model.eval()\n",
    "\n",
    "    valid_losses = []\n",
    "    y_true, y_prob = [], []\n",
    "\n",
    "    with torch.no_grad():\n",
    "        for batch, target in valid_loader:\n",
    "\n",
    "            # move data to the device\n",
    "            batch = batch.to(device)\n",
    "            target = target.to(device)\n",
    "\n",
    "            # make predictions\n",
    "            predictions = model(batch)\n",
    "\n",
    "            # calculate loss\n",
    "            loss = criterion(predictions, target)\n",
    "            \n",
    "            # logits -> probabilities\n",
    "            torch.sigmoid_(predictions)\n",
    "\n",
    "            # track losses and predictions\n",
    "            valid_losses.append(float(loss.item()))\n",
    "            y_true.extend(target.cpu().numpy())\n",
    "            y_prob.extend(predictions.cpu().numpy())\n",
    "            \n",
    "    y_true = np.array(y_true)\n",
    "    y_prob = np.array(y_prob)\n",
    "    y_pred = y_prob > 0.5\n",
    "    valid_losses = np.array(valid_losses)\n",
    "\n",
    "    # calculate validation accuracy from y_true and y_pred\n",
    "    fan_accuracy = metrics.accuracy_score(y_true[:,0], y_pred[:,0])\n",
    "    blotch_accuracy = metrics.accuracy_score(y_true[:,1], y_pred[:,1])\n",
    "    exact_accuracy = np.all(y_true == y_pred, axis=1).mean()\n",
    "\n",
    "    # calculate the mean validation loss\n",
    "    valid_loss = valid_losses.mean()\n",
    "\n",
    "    return valid_loss, fan_accuracy, blotch_accuracy, exact_accuracy\n",
    "\n",
    "\n",
    "def train(epochs, first_epoch=1):\n",
    "    for epoch in range(first_epoch, epochs+first_epoch):\n",
    "\n",
    "        # train\n",
    "        train_loss = train_for_epoch(optimizer)\n",
    "\n",
    "        # validation\n",
    "        valid_loss, fan_accuracy, blotch_accuracy, both_accuracy = validate()\n",
    "        print(f'[{epoch:02d}] train loss: {train_loss.mean():0.04f}  '\n",
    "              f'valid loss: {valid_loss:0.04f}  ',\n",
    "              f'fan acc: {fan_accuracy:0.04f}  ',\n",
    "              f'blotch acc: {blotch_accuracy:0.04f}  ',\n",
    "              f'both acc: {both_accuracy:0.04f}'\n",
    "        )\n",
    "        \n",
    "        # update learning curves\n",
    "        avg_train_losses.append(train_loss.mean())\n",
    "        avg_valid_losses.append(valid_loss)\n",
    "        valid_accuracies.append((fan_accuracy, blotch_accuracy, both_accuracy))\n",
    "        \n",
    "        # save checkpoint\n",
    "        #torch.save(model, f'checkpoints/baseline_{epoch:03d}.pkl')"
   ]
  },
  {
   "cell_type": "markdown",
   "id": "7b750e3a-4357-420e-b89e-aa1afbd35e2d",
   "metadata": {},
   "source": [
    "## Constant classifier accuracy\n",
    "\n",
    "Evaluate how accurate would a $f(x) = \\text{\"most common class\"}$ classifier be? "
   ]
  },
  {
   "cell_type": "code",
   "execution_count": 10,
   "id": "66147496-e69a-4391-89bf-d24d7c797371",
   "metadata": {},
   "outputs": [],
   "source": [
    "def constant_clf_accuracy():\n",
    "    y_true, y_pred = [], []\n",
    "    with torch.no_grad():\n",
    "        for _, target in valid_loader:\n",
    "            y_true.extend(target.cpu().numpy())\n",
    "            y_pred.extend(np.ones((target.shape[0], 2), dtype=np.float32))\n",
    "            \n",
    "    y_true = np.array(y_true)\n",
    "    y_pred = np.array(y_pred)\n",
    "        \n",
    "    # calculate validation accuracy from y_true and y_pred\n",
    "    f = metrics.accuracy_score(y_true[:,0], y_pred[:,0])\n",
    "    b = metrics.accuracy_score(y_true[:,1], y_pred[:,1])\n",
    "    t = np.all(y_true == y_pred, axis=1).mean()\n",
    "    print(f'fan: {f}  blotch: {b}  both: {t}')"
   ]
  },
  {
   "cell_type": "code",
   "execution_count": 11,
   "id": "0148aec5-f941-4499-b107-65bff2ca87c8",
   "metadata": {},
   "outputs": [
    {
     "name": "stdout",
     "output_type": "stream",
     "text": [
      "fan: 0.6218644702358667  blotch: 0.8083114938225384  both: 0.4399101460127293\n"
     ]
    }
   ],
   "source": [
    "constant_clf_accuracy()"
   ]
  },
  {
   "cell_type": "markdown",
   "id": "2c698dd8-6e41-4bba-9f77-82ed162a647f",
   "metadata": {},
   "source": [
    "## Train the model\n",
    "Call the ``train(n)`` function to train for ``n`` epochs."
   ]
  },
  {
   "cell_type": "code",
   "execution_count": 12,
   "id": "b1baa5b9-b8d7-41c2-8e93-061af75185c4",
   "metadata": {},
   "outputs": [
    {
     "name": "stderr",
     "output_type": "stream",
     "text": [
      "100%|█████████████████████████████████████████████████████████████████████████████████████| 376/376 [00:23<00:00, 15.70it/s]\n"
     ]
    },
    {
     "name": "stdout",
     "output_type": "stream",
     "text": [
      "[01] train loss: 0.4782  valid loss: 0.4266   fan acc: 0.7761   blotch acc: 0.8356   both acc: 0.6395\n"
     ]
    },
    {
     "name": "stderr",
     "output_type": "stream",
     "text": [
      "100%|█████████████████████████████████████████████████████████████████████████████████████| 376/376 [00:21<00:00, 17.10it/s]\n"
     ]
    },
    {
     "name": "stdout",
     "output_type": "stream",
     "text": [
      "[02] train loss: 0.3989  valid loss: 0.3935   fan acc: 0.8001   blotch acc: 0.8476   both acc: 0.6754\n"
     ]
    },
    {
     "name": "stderr",
     "output_type": "stream",
     "text": [
      "100%|█████████████████████████████████████████████████████████████████████████████████████| 376/376 [00:22<00:00, 17.09it/s]\n"
     ]
    },
    {
     "name": "stdout",
     "output_type": "stream",
     "text": [
      "[03] train loss: 0.3567  valid loss: 0.3901   fan acc: 0.7997   blotch acc: 0.8394   both acc: 0.6672\n"
     ]
    },
    {
     "name": "stderr",
     "output_type": "stream",
     "text": [
      "100%|█████████████████████████████████████████████████████████████████████████████████████| 376/376 [00:21<00:00, 17.24it/s]\n"
     ]
    },
    {
     "name": "stdout",
     "output_type": "stream",
     "text": [
      "[04] train loss: 0.3217  valid loss: 0.3872   fan acc: 0.8132   blotch acc: 0.8454   both acc: 0.6851\n"
     ]
    },
    {
     "name": "stderr",
     "output_type": "stream",
     "text": [
      "100%|█████████████████████████████████████████████████████████████████████████████████████| 376/376 [00:21<00:00, 17.18it/s]\n"
     ]
    },
    {
     "name": "stdout",
     "output_type": "stream",
     "text": [
      "[05] train loss: 0.2865  valid loss: 0.3983   fan acc: 0.8053   blotch acc: 0.8428   both acc: 0.6803\n"
     ]
    },
    {
     "name": "stderr",
     "output_type": "stream",
     "text": [
      "100%|█████████████████████████████████████████████████████████████████████████████████████| 376/376 [00:21<00:00, 17.31it/s]\n"
     ]
    },
    {
     "name": "stdout",
     "output_type": "stream",
     "text": [
      "[06] train loss: 0.2560  valid loss: 0.4269   fan acc: 0.7918   blotch acc: 0.8428   both acc: 0.6660\n"
     ]
    },
    {
     "name": "stderr",
     "output_type": "stream",
     "text": [
      "100%|█████████████████████████████████████████████████████████████████████████████████████| 376/376 [00:21<00:00, 17.24it/s]\n"
     ]
    },
    {
     "name": "stdout",
     "output_type": "stream",
     "text": [
      "[07] train loss: 0.2244  valid loss: 0.4459   fan acc: 0.7956   blotch acc: 0.8334   both acc: 0.6604\n"
     ]
    },
    {
     "name": "stderr",
     "output_type": "stream",
     "text": [
      "100%|█████████████████████████████████████████████████████████████████████████████████████| 376/376 [00:21<00:00, 17.11it/s]\n"
     ]
    },
    {
     "name": "stdout",
     "output_type": "stream",
     "text": [
      "[08] train loss: 0.1931  valid loss: 0.4938   fan acc: 0.7844   blotch acc: 0.8315   both acc: 0.6511\n"
     ]
    },
    {
     "name": "stderr",
     "output_type": "stream",
     "text": [
      "100%|█████████████████████████████████████████████████████████████████████████████████████| 376/376 [00:21<00:00, 17.25it/s]\n"
     ]
    },
    {
     "name": "stdout",
     "output_type": "stream",
     "text": [
      "[09] train loss: 0.1685  valid loss: 0.5295   fan acc: 0.7933   blotch acc: 0.8300   both acc: 0.6601\n"
     ]
    },
    {
     "name": "stderr",
     "output_type": "stream",
     "text": [
      "100%|█████████████████████████████████████████████████████████████████████████████████████| 376/376 [00:21<00:00, 17.22it/s]\n"
     ]
    },
    {
     "name": "stdout",
     "output_type": "stream",
     "text": [
      "[10] train loss: 0.1449  valid loss: 0.5369   fan acc: 0.7948   blotch acc: 0.8334   both acc: 0.6571\n"
     ]
    },
    {
     "name": "stderr",
     "output_type": "stream",
     "text": [
      "100%|█████████████████████████████████████████████████████████████████████████████████████| 376/376 [00:21<00:00, 17.28it/s]\n"
     ]
    },
    {
     "name": "stdout",
     "output_type": "stream",
     "text": [
      "[11] train loss: 0.1226  valid loss: 0.5693   fan acc: 0.7885   blotch acc: 0.8233   both acc: 0.6455\n"
     ]
    },
    {
     "name": "stderr",
     "output_type": "stream",
     "text": [
      "100%|█████████████████████████████████████████████████████████████████████████████████████| 376/376 [00:21<00:00, 17.33it/s]\n"
     ]
    },
    {
     "name": "stdout",
     "output_type": "stream",
     "text": [
      "[12] train loss: 0.1093  valid loss: 0.6190   fan acc: 0.7930   blotch acc: 0.8263   both acc: 0.6507\n"
     ]
    },
    {
     "name": "stderr",
     "output_type": "stream",
     "text": [
      "100%|█████████████████████████████████████████████████████████████████████████████████████| 376/376 [00:21<00:00, 17.12it/s]\n"
     ]
    },
    {
     "name": "stdout",
     "output_type": "stream",
     "text": [
      "[13] train loss: 0.0998  valid loss: 0.6221   fan acc: 0.7952   blotch acc: 0.8330   both acc: 0.6608\n"
     ]
    },
    {
     "name": "stderr",
     "output_type": "stream",
     "text": [
      "100%|█████████████████████████████████████████████████████████████████████████████████████| 376/376 [00:21<00:00, 17.28it/s]\n"
     ]
    },
    {
     "name": "stdout",
     "output_type": "stream",
     "text": [
      "[14] train loss: 0.0837  valid loss: 0.6620   fan acc: 0.7806   blotch acc: 0.8319   both acc: 0.6443\n"
     ]
    },
    {
     "name": "stderr",
     "output_type": "stream",
     "text": [
      "100%|█████████████████████████████████████████████████████████████████████████████████████| 376/376 [00:21<00:00, 17.30it/s]\n"
     ]
    },
    {
     "name": "stdout",
     "output_type": "stream",
     "text": [
      "[15] train loss: 0.0753  valid loss: 0.6761   fan acc: 0.7982   blotch acc: 0.8405   both acc: 0.6675\n"
     ]
    },
    {
     "name": "stderr",
     "output_type": "stream",
     "text": [
      "100%|█████████████████████████████████████████████████████████████████████████████████████| 376/376 [00:21<00:00, 17.23it/s]\n"
     ]
    },
    {
     "name": "stdout",
     "output_type": "stream",
     "text": [
      "[16] train loss: 0.0686  valid loss: 0.7054   fan acc: 0.7960   blotch acc: 0.8386   both acc: 0.6608\n"
     ]
    },
    {
     "name": "stderr",
     "output_type": "stream",
     "text": [
      "100%|█████████████████████████████████████████████████████████████████████████████████████| 376/376 [00:21<00:00, 17.27it/s]\n"
     ]
    },
    {
     "name": "stdout",
     "output_type": "stream",
     "text": [
      "[17] train loss: 0.0625  valid loss: 0.6930   fan acc: 0.8079   blotch acc: 0.8293   both acc: 0.6649\n"
     ]
    },
    {
     "name": "stderr",
     "output_type": "stream",
     "text": [
      "100%|█████████████████████████████████████████████████████████████████████████████████████| 376/376 [00:22<00:00, 17.09it/s]\n"
     ]
    },
    {
     "name": "stdout",
     "output_type": "stream",
     "text": [
      "[18] train loss: 0.0581  valid loss: 0.7498   fan acc: 0.7971   blotch acc: 0.8353   both acc: 0.6619\n"
     ]
    },
    {
     "name": "stderr",
     "output_type": "stream",
     "text": [
      "100%|█████████████████████████████████████████████████████████████████████████████████████| 376/376 [00:21<00:00, 17.30it/s]\n"
     ]
    },
    {
     "name": "stdout",
     "output_type": "stream",
     "text": [
      "[19] train loss: 0.0484  valid loss: 0.7376   fan acc: 0.8072   blotch acc: 0.8293   both acc: 0.6619\n"
     ]
    },
    {
     "name": "stderr",
     "output_type": "stream",
     "text": [
      "100%|█████████████████████████████████████████████████████████████████████████████████████| 376/376 [00:21<00:00, 17.29it/s]\n"
     ]
    },
    {
     "name": "stdout",
     "output_type": "stream",
     "text": [
      "[20] train loss: 0.0465  valid loss: 0.7785   fan acc: 0.7926   blotch acc: 0.8341   both acc: 0.6597\n"
     ]
    },
    {
     "name": "stderr",
     "output_type": "stream",
     "text": [
      "100%|█████████████████████████████████████████████████████████████████████████████████████| 376/376 [00:21<00:00, 17.25it/s]\n"
     ]
    },
    {
     "name": "stdout",
     "output_type": "stream",
     "text": [
      "[21] train loss: 0.0429  valid loss: 0.7882   fan acc: 0.7907   blotch acc: 0.8326   both acc: 0.6586\n"
     ]
    },
    {
     "name": "stderr",
     "output_type": "stream",
     "text": [
      "100%|█████████████████████████████████████████████████████████████████████████████████████| 376/376 [00:21<00:00, 17.36it/s]\n"
     ]
    },
    {
     "name": "stdout",
     "output_type": "stream",
     "text": [
      "[22] train loss: 0.0428  valid loss: 0.8300   fan acc: 0.7945   blotch acc: 0.8311   both acc: 0.6586\n"
     ]
    },
    {
     "name": "stderr",
     "output_type": "stream",
     "text": [
      "100%|█████████████████████████████████████████████████████████████████████████████████████| 376/376 [00:21<00:00, 17.18it/s]\n"
     ]
    },
    {
     "name": "stdout",
     "output_type": "stream",
     "text": [
      "[23] train loss: 0.0373  valid loss: 0.8425   fan acc: 0.8019   blotch acc: 0.8259   both acc: 0.6552\n"
     ]
    },
    {
     "name": "stderr",
     "output_type": "stream",
     "text": [
      "100%|█████████████████████████████████████████████████████████████████████████████████████| 376/376 [00:21<00:00, 17.26it/s]\n"
     ]
    },
    {
     "name": "stdout",
     "output_type": "stream",
     "text": [
      "[24] train loss: 0.0317  valid loss: 0.8433   fan acc: 0.7956   blotch acc: 0.8334   both acc: 0.6593\n"
     ]
    },
    {
     "name": "stderr",
     "output_type": "stream",
     "text": [
      "100%|█████████████████████████████████████████████████████████████████████████████████████| 376/376 [00:21<00:00, 17.20it/s]\n"
     ]
    },
    {
     "name": "stdout",
     "output_type": "stream",
     "text": [
      "[25] train loss: 0.0326  valid loss: 0.8681   fan acc: 0.7990   blotch acc: 0.8416   both acc: 0.6675\n"
     ]
    },
    {
     "name": "stderr",
     "output_type": "stream",
     "text": [
      "100%|█████████████████████████████████████████████████████████████████████████████████████| 376/376 [00:21<00:00, 17.33it/s]\n"
     ]
    },
    {
     "name": "stdout",
     "output_type": "stream",
     "text": [
      "[26] train loss: 0.0313  valid loss: 0.8581   fan acc: 0.7997   blotch acc: 0.8326   both acc: 0.6642\n"
     ]
    },
    {
     "name": "stderr",
     "output_type": "stream",
     "text": [
      "100%|█████████████████████████████████████████████████████████████████████████████████████| 376/376 [00:21<00:00, 17.27it/s]\n"
     ]
    },
    {
     "name": "stdout",
     "output_type": "stream",
     "text": [
      "[27] train loss: 0.0284  valid loss: 0.8726   fan acc: 0.7975   blotch acc: 0.8401   both acc: 0.6694\n"
     ]
    },
    {
     "name": "stderr",
     "output_type": "stream",
     "text": [
      "100%|█████████████████████████████████████████████████████████████████████████████████████| 376/376 [00:21<00:00, 17.15it/s]\n"
     ]
    },
    {
     "name": "stdout",
     "output_type": "stream",
     "text": [
      "[28] train loss: 0.0293  valid loss: 0.8890   fan acc: 0.7952   blotch acc: 0.8263   both acc: 0.6511\n"
     ]
    },
    {
     "name": "stderr",
     "output_type": "stream",
     "text": [
      "100%|█████████████████████████████████████████████████████████████████████████████████████| 376/376 [00:21<00:00, 17.27it/s]\n"
     ]
    },
    {
     "name": "stdout",
     "output_type": "stream",
     "text": [
      "[29] train loss: 0.0310  valid loss: 0.8983   fan acc: 0.8027   blotch acc: 0.8379   both acc: 0.6687\n"
     ]
    },
    {
     "name": "stderr",
     "output_type": "stream",
     "text": [
      "100%|█████████████████████████████████████████████████████████████████████████████████████| 376/376 [00:21<00:00, 17.21it/s]\n"
     ]
    },
    {
     "name": "stdout",
     "output_type": "stream",
     "text": [
      "[30] train loss: 0.0304  valid loss: 0.8867   fan acc: 0.8072   blotch acc: 0.8368   both acc: 0.6713\n"
     ]
    },
    {
     "name": "stderr",
     "output_type": "stream",
     "text": [
      "100%|█████████████████████████████████████████████████████████████████████████████████████| 376/376 [00:21<00:00, 17.26it/s]\n"
     ]
    },
    {
     "name": "stdout",
     "output_type": "stream",
     "text": [
      "[31] train loss: 0.0303  valid loss: 0.9044   fan acc: 0.7933   blotch acc: 0.8315   both acc: 0.6507\n"
     ]
    },
    {
     "name": "stderr",
     "output_type": "stream",
     "text": [
      "100%|█████████████████████████████████████████████████████████████████████████████████████| 376/376 [00:21<00:00, 17.28it/s]\n"
     ]
    },
    {
     "name": "stdout",
     "output_type": "stream",
     "text": [
      "[32] train loss: 0.0253  valid loss: 0.9279   fan acc: 0.8023   blotch acc: 0.8304   both acc: 0.6660\n"
     ]
    },
    {
     "name": "stderr",
     "output_type": "stream",
     "text": [
      "100%|█████████████████████████████████████████████████████████████████████████████████████| 376/376 [00:21<00:00, 17.28it/s]\n"
     ]
    },
    {
     "name": "stdout",
     "output_type": "stream",
     "text": [
      "[33] train loss: 0.0234  valid loss: 0.9376   fan acc: 0.8001   blotch acc: 0.8341   both acc: 0.6642\n"
     ]
    },
    {
     "name": "stderr",
     "output_type": "stream",
     "text": [
      "100%|█████████████████████████████████████████████████████████████████████████████████████| 376/376 [00:21<00:00, 17.09it/s]\n"
     ]
    },
    {
     "name": "stdout",
     "output_type": "stream",
     "text": [
      "[34] train loss: 0.0224  valid loss: 0.9272   fan acc: 0.8034   blotch acc: 0.8237   both acc: 0.6597\n"
     ]
    },
    {
     "name": "stderr",
     "output_type": "stream",
     "text": [
      "100%|█████████████████████████████████████████████████████████████████████████████████████| 376/376 [00:21<00:00, 17.34it/s]\n"
     ]
    },
    {
     "name": "stdout",
     "output_type": "stream",
     "text": [
      "[35] train loss: 0.0190  valid loss: 0.9049   fan acc: 0.8008   blotch acc: 0.8394   both acc: 0.6687\n"
     ]
    },
    {
     "name": "stderr",
     "output_type": "stream",
     "text": [
      "100%|█████████████████████████████████████████████████████████████████████████████████████| 376/376 [00:21<00:00, 17.21it/s]\n"
     ]
    },
    {
     "name": "stdout",
     "output_type": "stream",
     "text": [
      "[36] train loss: 0.0191  valid loss: 0.9772   fan acc: 0.7956   blotch acc: 0.8177   both acc: 0.6451\n"
     ]
    },
    {
     "name": "stderr",
     "output_type": "stream",
     "text": [
      "100%|█████████████████████████████████████████████████████████████████████████████████████| 376/376 [00:21<00:00, 17.23it/s]\n"
     ]
    },
    {
     "name": "stdout",
     "output_type": "stream",
     "text": [
      "[37] train loss: 0.0187  valid loss: 0.9545   fan acc: 0.7997   blotch acc: 0.8315   both acc: 0.6571\n"
     ]
    },
    {
     "name": "stderr",
     "output_type": "stream",
     "text": [
      "100%|█████████████████████████████████████████████████████████████████████████████████████| 376/376 [00:21<00:00, 17.26it/s]\n"
     ]
    },
    {
     "name": "stdout",
     "output_type": "stream",
     "text": [
      "[38] train loss: 0.0178  valid loss: 0.9567   fan acc: 0.7997   blotch acc: 0.8263   both acc: 0.6574\n"
     ]
    },
    {
     "name": "stderr",
     "output_type": "stream",
     "text": [
      "100%|█████████████████████████████████████████████████████████████████████████████████████| 376/376 [00:21<00:00, 17.20it/s]\n"
     ]
    },
    {
     "name": "stdout",
     "output_type": "stream",
     "text": [
      "[39] train loss: 0.0174  valid loss: 0.9588   fan acc: 0.7967   blotch acc: 0.8300   both acc: 0.6567\n"
     ]
    },
    {
     "name": "stderr",
     "output_type": "stream",
     "text": [
      "100%|█████████████████████████████████████████████████████████████████████████████████████| 376/376 [00:21<00:00, 17.27it/s]\n"
     ]
    },
    {
     "name": "stdout",
     "output_type": "stream",
     "text": [
      "[40] train loss: 0.0150  valid loss: 0.9885   fan acc: 0.8004   blotch acc: 0.8443   both acc: 0.6743\n"
     ]
    },
    {
     "name": "stderr",
     "output_type": "stream",
     "text": [
      "100%|█████████████████████████████████████████████████████████████████████████████████████| 376/376 [00:21<00:00, 17.24it/s]\n"
     ]
    },
    {
     "name": "stdout",
     "output_type": "stream",
     "text": [
      "[41] train loss: 0.0178  valid loss: 0.9886   fan acc: 0.7975   blotch acc: 0.8323   both acc: 0.6578\n"
     ]
    },
    {
     "name": "stderr",
     "output_type": "stream",
     "text": [
      "100%|█████████████████████████████████████████████████████████████████████████████████████| 376/376 [00:21<00:00, 17.29it/s]\n"
     ]
    },
    {
     "name": "stdout",
     "output_type": "stream",
     "text": [
      "[42] train loss: 0.0167  valid loss: 0.9781   fan acc: 0.8034   blotch acc: 0.8345   both acc: 0.6653\n"
     ]
    },
    {
     "name": "stderr",
     "output_type": "stream",
     "text": [
      "100%|█████████████████████████████████████████████████████████████████████████████████████| 376/376 [00:21<00:00, 17.20it/s]\n"
     ]
    },
    {
     "name": "stdout",
     "output_type": "stream",
     "text": [
      "[43] train loss: 0.0150  valid loss: 0.9503   fan acc: 0.7993   blotch acc: 0.8420   both acc: 0.6732\n"
     ]
    },
    {
     "name": "stderr",
     "output_type": "stream",
     "text": [
      "100%|█████████████████████████████████████████████████████████████████████████████████████| 376/376 [00:21<00:00, 17.18it/s]\n"
     ]
    },
    {
     "name": "stdout",
     "output_type": "stream",
     "text": [
      "[44] train loss: 0.0140  valid loss: 0.9464   fan acc: 0.8012   blotch acc: 0.8334   both acc: 0.6660\n"
     ]
    },
    {
     "name": "stderr",
     "output_type": "stream",
     "text": [
      "100%|█████████████████████████████████████████████████████████████████████████████████████| 376/376 [00:21<00:00, 17.24it/s]\n"
     ]
    },
    {
     "name": "stdout",
     "output_type": "stream",
     "text": [
      "[45] train loss: 0.0139  valid loss: 0.9702   fan acc: 0.8053   blotch acc: 0.8398   both acc: 0.6720\n"
     ]
    },
    {
     "name": "stderr",
     "output_type": "stream",
     "text": [
      "100%|█████████████████████████████████████████████████████████████████████████████████████| 376/376 [00:21<00:00, 17.31it/s]\n"
     ]
    },
    {
     "name": "stdout",
     "output_type": "stream",
     "text": [
      "[46] train loss: 0.0125  valid loss: 0.9858   fan acc: 0.7937   blotch acc: 0.8409   both acc: 0.6645\n"
     ]
    },
    {
     "name": "stderr",
     "output_type": "stream",
     "text": [
      "100%|█████████████████████████████████████████████████████████████████████████████████████| 376/376 [00:21<00:00, 17.33it/s]\n"
     ]
    },
    {
     "name": "stdout",
     "output_type": "stream",
     "text": [
      "[47] train loss: 0.0112  valid loss: 0.9795   fan acc: 0.8016   blotch acc: 0.8383   both acc: 0.6687\n"
     ]
    },
    {
     "name": "stderr",
     "output_type": "stream",
     "text": [
      "100%|█████████████████████████████████████████████████████████████████████████████████████| 376/376 [00:21<00:00, 17.22it/s]\n"
     ]
    },
    {
     "name": "stdout",
     "output_type": "stream",
     "text": [
      "[48] train loss: 0.0141  valid loss: 1.0052   fan acc: 0.7975   blotch acc: 0.8293   both acc: 0.6597\n"
     ]
    },
    {
     "name": "stderr",
     "output_type": "stream",
     "text": [
      "100%|█████████████████████████████████████████████████████████████████████████████████████| 376/376 [00:21<00:00, 17.10it/s]\n"
     ]
    },
    {
     "name": "stdout",
     "output_type": "stream",
     "text": [
      "[49] train loss: 0.0096  valid loss: 0.9963   fan acc: 0.8072   blotch acc: 0.8390   both acc: 0.6743\n"
     ]
    },
    {
     "name": "stderr",
     "output_type": "stream",
     "text": [
      "100%|█████████████████████████████████████████████████████████████████████████████████████| 376/376 [00:21<00:00, 17.27it/s]\n"
     ]
    },
    {
     "name": "stdout",
     "output_type": "stream",
     "text": [
      "[50] train loss: 0.0136  valid loss: 1.0016   fan acc: 0.8042   blotch acc: 0.8255   both acc: 0.6619\n"
     ]
    },
    {
     "name": "stderr",
     "output_type": "stream",
     "text": [
      "100%|█████████████████████████████████████████████████████████████████████████████████████| 376/376 [00:21<00:00, 17.32it/s]\n"
     ]
    },
    {
     "name": "stdout",
     "output_type": "stream",
     "text": [
      "[51] train loss: 0.0117  valid loss: 1.0123   fan acc: 0.8102   blotch acc: 0.8323   both acc: 0.6717\n"
     ]
    },
    {
     "name": "stderr",
     "output_type": "stream",
     "text": [
      "100%|█████████████████████████████████████████████████████████████████████████████████████| 376/376 [00:21<00:00, 17.25it/s]\n"
     ]
    },
    {
     "name": "stdout",
     "output_type": "stream",
     "text": [
      "[52] train loss: 0.0113  valid loss: 1.0488   fan acc: 0.7967   blotch acc: 0.8390   both acc: 0.6668\n"
     ]
    },
    {
     "name": "stderr",
     "output_type": "stream",
     "text": [
      "100%|█████████████████████████████████████████████████████████████████████████████████████| 376/376 [00:21<00:00, 17.27it/s]\n"
     ]
    },
    {
     "name": "stdout",
     "output_type": "stream",
     "text": [
      "[53] train loss: 0.0107  valid loss: 1.0486   fan acc: 0.8023   blotch acc: 0.8308   both acc: 0.6623\n"
     ]
    },
    {
     "name": "stderr",
     "output_type": "stream",
     "text": [
      "100%|█████████████████████████████████████████████████████████████████████████████████████| 376/376 [00:22<00:00, 16.81it/s]\n"
     ]
    },
    {
     "name": "stdout",
     "output_type": "stream",
     "text": [
      "[54] train loss: 0.0099  valid loss: 1.0102   fan acc: 0.8128   blotch acc: 0.8300   both acc: 0.6705\n"
     ]
    },
    {
     "name": "stderr",
     "output_type": "stream",
     "text": [
      "100%|█████████████████████████████████████████████████████████████████████████████████████| 376/376 [00:22<00:00, 17.09it/s]\n"
     ]
    },
    {
     "name": "stdout",
     "output_type": "stream",
     "text": [
      "[55] train loss: 0.0097  valid loss: 1.0162   fan acc: 0.8057   blotch acc: 0.8353   both acc: 0.6687\n"
     ]
    },
    {
     "name": "stderr",
     "output_type": "stream",
     "text": [
      "100%|█████████████████████████████████████████████████████████████████████████████████████| 376/376 [00:22<00:00, 17.04it/s]\n"
     ]
    },
    {
     "name": "stdout",
     "output_type": "stream",
     "text": [
      "[56] train loss: 0.0086  valid loss: 1.0573   fan acc: 0.8008   blotch acc: 0.8297   both acc: 0.6623\n"
     ]
    },
    {
     "name": "stderr",
     "output_type": "stream",
     "text": [
      "100%|█████████████████████████████████████████████████████████████████████████████████████| 376/376 [00:22<00:00, 17.08it/s]\n"
     ]
    },
    {
     "name": "stdout",
     "output_type": "stream",
     "text": [
      "[57] train loss: 0.0086  valid loss: 1.0468   fan acc: 0.8083   blotch acc: 0.8308   both acc: 0.6690\n"
     ]
    },
    {
     "name": "stderr",
     "output_type": "stream",
     "text": [
      "100%|█████████████████████████████████████████████████████████████████████████████████████| 376/376 [00:21<00:00, 17.28it/s]\n"
     ]
    },
    {
     "name": "stdout",
     "output_type": "stream",
     "text": [
      "[58] train loss: 0.0077  valid loss: 1.0697   fan acc: 0.8053   blotch acc: 0.8338   both acc: 0.6664\n"
     ]
    },
    {
     "name": "stderr",
     "output_type": "stream",
     "text": [
      "100%|█████████████████████████████████████████████████████████████████████████████████████| 376/376 [00:21<00:00, 17.11it/s]\n"
     ]
    },
    {
     "name": "stdout",
     "output_type": "stream",
     "text": [
      "[59] train loss: 0.0078  valid loss: 1.1136   fan acc: 0.7952   blotch acc: 0.8285   both acc: 0.6578\n"
     ]
    },
    {
     "name": "stderr",
     "output_type": "stream",
     "text": [
      "100%|█████████████████████████████████████████████████████████████████████████████████████| 376/376 [00:21<00:00, 17.38it/s]\n"
     ]
    },
    {
     "name": "stdout",
     "output_type": "stream",
     "text": [
      "[60] train loss: 0.0098  valid loss: 1.0913   fan acc: 0.8012   blotch acc: 0.8289   both acc: 0.6582\n"
     ]
    },
    {
     "name": "stderr",
     "output_type": "stream",
     "text": [
      "100%|█████████████████████████████████████████████████████████████████████████████████████| 376/376 [00:21<00:00, 17.33it/s]\n"
     ]
    },
    {
     "name": "stdout",
     "output_type": "stream",
     "text": [
      "[61] train loss: 0.0092  valid loss: 1.0443   fan acc: 0.8004   blotch acc: 0.8390   both acc: 0.6717\n"
     ]
    },
    {
     "name": "stderr",
     "output_type": "stream",
     "text": [
      "100%|█████████████████████████████████████████████████████████████████████████████████████| 376/376 [00:21<00:00, 17.30it/s]\n"
     ]
    },
    {
     "name": "stdout",
     "output_type": "stream",
     "text": [
      "[62] train loss: 0.0085  valid loss: 1.0358   fan acc: 0.8016   blotch acc: 0.8297   both acc: 0.6634\n"
     ]
    },
    {
     "name": "stderr",
     "output_type": "stream",
     "text": [
      "100%|█████████████████████████████████████████████████████████████████████████████████████| 376/376 [00:21<00:00, 17.30it/s]\n"
     ]
    },
    {
     "name": "stdout",
     "output_type": "stream",
     "text": [
      "[63] train loss: 0.0076  valid loss: 1.1073   fan acc: 0.8072   blotch acc: 0.8319   both acc: 0.6683\n"
     ]
    },
    {
     "name": "stderr",
     "output_type": "stream",
     "text": [
      "100%|█████████████████████████████████████████████████████████████████████████████████████| 376/376 [00:21<00:00, 17.23it/s]\n"
     ]
    },
    {
     "name": "stdout",
     "output_type": "stream",
     "text": [
      "[64] train loss: 0.0090  valid loss: 1.0257   fan acc: 0.8072   blotch acc: 0.8375   both acc: 0.6709\n"
     ]
    },
    {
     "name": "stderr",
     "output_type": "stream",
     "text": [
      "100%|█████████████████████████████████████████████████████████████████████████████████████| 376/376 [00:21<00:00, 17.34it/s]\n"
     ]
    },
    {
     "name": "stdout",
     "output_type": "stream",
     "text": [
      "[65] train loss: 0.0085  valid loss: 1.0682   fan acc: 0.8019   blotch acc: 0.8353   both acc: 0.6672\n"
     ]
    },
    {
     "name": "stderr",
     "output_type": "stream",
     "text": [
      "100%|█████████████████████████████████████████████████████████████████████████████████████| 376/376 [00:21<00:00, 17.27it/s]\n"
     ]
    },
    {
     "name": "stdout",
     "output_type": "stream",
     "text": [
      "[66] train loss: 0.0097  valid loss: 1.1196   fan acc: 0.8027   blotch acc: 0.8252   both acc: 0.6612\n"
     ]
    },
    {
     "name": "stderr",
     "output_type": "stream",
     "text": [
      "100%|█████████████████████████████████████████████████████████████████████████████████████| 376/376 [00:21<00:00, 17.23it/s]\n"
     ]
    },
    {
     "name": "stdout",
     "output_type": "stream",
     "text": [
      "[67] train loss: 0.0084  valid loss: 1.0779   fan acc: 0.7967   blotch acc: 0.8364   both acc: 0.6642\n"
     ]
    },
    {
     "name": "stderr",
     "output_type": "stream",
     "text": [
      "100%|█████████████████████████████████████████████████████████████████████████████████████| 376/376 [00:21<00:00, 17.24it/s]\n"
     ]
    },
    {
     "name": "stdout",
     "output_type": "stream",
     "text": [
      "[68] train loss: 0.0076  valid loss: 1.0573   fan acc: 0.8079   blotch acc: 0.8401   both acc: 0.6776\n"
     ]
    },
    {
     "name": "stderr",
     "output_type": "stream",
     "text": [
      "100%|█████████████████████████████████████████████████████████████████████████████████████| 376/376 [00:21<00:00, 17.27it/s]\n"
     ]
    },
    {
     "name": "stdout",
     "output_type": "stream",
     "text": [
      "[69] train loss: 0.0072  valid loss: 1.1008   fan acc: 0.7930   blotch acc: 0.8270   both acc: 0.6533\n"
     ]
    },
    {
     "name": "stderr",
     "output_type": "stream",
     "text": [
      "100%|█████████████████████████████████████████████████████████████████████████████████████| 376/376 [00:21<00:00, 17.14it/s]\n"
     ]
    },
    {
     "name": "stdout",
     "output_type": "stream",
     "text": [
      "[70] train loss: 0.0078  valid loss: 1.0668   fan acc: 0.8023   blotch acc: 0.8368   both acc: 0.6709\n"
     ]
    },
    {
     "name": "stderr",
     "output_type": "stream",
     "text": [
      "100%|█████████████████████████████████████████████████████████████████████████████████████| 376/376 [00:21<00:00, 17.28it/s]\n"
     ]
    },
    {
     "name": "stdout",
     "output_type": "stream",
     "text": [
      "[71] train loss: 0.0067  valid loss: 1.0852   fan acc: 0.8064   blotch acc: 0.8386   both acc: 0.6791\n"
     ]
    },
    {
     "name": "stderr",
     "output_type": "stream",
     "text": [
      "100%|█████████████████████████████████████████████████████████████████████████████████████| 376/376 [00:21<00:00, 17.41it/s]\n"
     ]
    },
    {
     "name": "stdout",
     "output_type": "stream",
     "text": [
      "[72] train loss: 0.0067  valid loss: 1.1085   fan acc: 0.8053   blotch acc: 0.8341   both acc: 0.6683\n"
     ]
    },
    {
     "name": "stderr",
     "output_type": "stream",
     "text": [
      "100%|█████████████████████████████████████████████████████████████████████████████████████| 376/376 [00:21<00:00, 17.26it/s]\n"
     ]
    },
    {
     "name": "stdout",
     "output_type": "stream",
     "text": [
      "[73] train loss: 0.0056  valid loss: 1.1389   fan acc: 0.8042   blotch acc: 0.8300   both acc: 0.6653\n"
     ]
    },
    {
     "name": "stderr",
     "output_type": "stream",
     "text": [
      "100%|█████████████████████████████████████████████████████████████████████████████████████| 376/376 [00:21<00:00, 17.37it/s]\n"
     ]
    },
    {
     "name": "stdout",
     "output_type": "stream",
     "text": [
      "[74] train loss: 0.0055  valid loss: 1.1373   fan acc: 0.8076   blotch acc: 0.8233   both acc: 0.6615\n"
     ]
    },
    {
     "name": "stderr",
     "output_type": "stream",
     "text": [
      "100%|█████████████████████████████████████████████████████████████████████████████████████| 376/376 [00:21<00:00, 17.19it/s]\n"
     ]
    },
    {
     "name": "stdout",
     "output_type": "stream",
     "text": [
      "[75] train loss: 0.0060  valid loss: 1.1066   fan acc: 0.8128   blotch acc: 0.8267   both acc: 0.6690\n"
     ]
    },
    {
     "name": "stderr",
     "output_type": "stream",
     "text": [
      "100%|█████████████████████████████████████████████████████████████████████████████████████| 376/376 [00:21<00:00, 17.31it/s]\n"
     ]
    },
    {
     "name": "stdout",
     "output_type": "stream",
     "text": [
      "[76] train loss: 0.0063  valid loss: 1.1082   fan acc: 0.8076   blotch acc: 0.8446   both acc: 0.6818\n"
     ]
    },
    {
     "name": "stderr",
     "output_type": "stream",
     "text": [
      "100%|█████████████████████████████████████████████████████████████████████████████████████| 376/376 [00:21<00:00, 17.30it/s]\n"
     ]
    },
    {
     "name": "stdout",
     "output_type": "stream",
     "text": [
      "[77] train loss: 0.0073  valid loss: 1.1437   fan acc: 0.8008   blotch acc: 0.8405   both acc: 0.6698\n"
     ]
    },
    {
     "name": "stderr",
     "output_type": "stream",
     "text": [
      "100%|█████████████████████████████████████████████████████████████████████████████████████| 376/376 [00:21<00:00, 17.25it/s]\n"
     ]
    },
    {
     "name": "stdout",
     "output_type": "stream",
     "text": [
      "[78] train loss: 0.0057  valid loss: 1.1438   fan acc: 0.8016   blotch acc: 0.8267   both acc: 0.6563\n"
     ]
    },
    {
     "name": "stderr",
     "output_type": "stream",
     "text": [
      "100%|█████████████████████████████████████████████████████████████████████████████████████| 376/376 [00:21<00:00, 17.25it/s]\n"
     ]
    },
    {
     "name": "stdout",
     "output_type": "stream",
     "text": [
      "[79] train loss: 0.0056  valid loss: 1.0846   fan acc: 0.8087   blotch acc: 0.8334   both acc: 0.6717\n"
     ]
    },
    {
     "name": "stderr",
     "output_type": "stream",
     "text": [
      "100%|█████████████████████████████████████████████████████████████████████████████████████| 376/376 [00:21<00:00, 17.12it/s]\n"
     ]
    },
    {
     "name": "stdout",
     "output_type": "stream",
     "text": [
      "[80] train loss: 0.0057  valid loss: 1.1347   fan acc: 0.8023   blotch acc: 0.8401   both acc: 0.6720\n"
     ]
    },
    {
     "name": "stderr",
     "output_type": "stream",
     "text": [
      "100%|█████████████████████████████████████████████████████████████████████████████████████| 376/376 [00:21<00:00, 17.23it/s]\n"
     ]
    },
    {
     "name": "stdout",
     "output_type": "stream",
     "text": [
      "[81] train loss: 0.0050  valid loss: 1.1039   fan acc: 0.8061   blotch acc: 0.8394   both acc: 0.6743\n"
     ]
    },
    {
     "name": "stderr",
     "output_type": "stream",
     "text": [
      "100%|█████████████████████████████████████████████████████████████████████████████████████| 376/376 [00:21<00:00, 17.23it/s]\n"
     ]
    },
    {
     "name": "stdout",
     "output_type": "stream",
     "text": [
      "[82] train loss: 0.0047  valid loss: 1.1276   fan acc: 0.7911   blotch acc: 0.8386   both acc: 0.6601\n"
     ]
    },
    {
     "name": "stderr",
     "output_type": "stream",
     "text": [
      "100%|█████████████████████████████████████████████████████████████████████████████████████| 376/376 [00:21<00:00, 17.20it/s]\n"
     ]
    },
    {
     "name": "stdout",
     "output_type": "stream",
     "text": [
      "[83] train loss: 0.0034  valid loss: 1.1243   fan acc: 0.7978   blotch acc: 0.8416   both acc: 0.6668\n"
     ]
    },
    {
     "name": "stderr",
     "output_type": "stream",
     "text": [
      "100%|█████████████████████████████████████████████████████████████████████████████████████| 376/376 [00:21<00:00, 17.28it/s]\n"
     ]
    },
    {
     "name": "stdout",
     "output_type": "stream",
     "text": [
      "[84] train loss: 0.0043  valid loss: 1.1493   fan acc: 0.8001   blotch acc: 0.8356   both acc: 0.6657\n"
     ]
    },
    {
     "name": "stderr",
     "output_type": "stream",
     "text": [
      "100%|█████████████████████████████████████████████████████████████████████████████████████| 376/376 [00:21<00:00, 17.12it/s]\n"
     ]
    },
    {
     "name": "stdout",
     "output_type": "stream",
     "text": [
      "[85] train loss: 0.0042  valid loss: 1.1244   fan acc: 0.8038   blotch acc: 0.8334   both acc: 0.6638\n"
     ]
    },
    {
     "name": "stderr",
     "output_type": "stream",
     "text": [
      "100%|█████████████████████████████████████████████████████████████████████████████████████| 376/376 [00:21<00:00, 17.25it/s]\n"
     ]
    },
    {
     "name": "stdout",
     "output_type": "stream",
     "text": [
      "[86] train loss: 0.0043  valid loss: 1.0972   fan acc: 0.8016   blotch acc: 0.8364   both acc: 0.6660\n"
     ]
    },
    {
     "name": "stderr",
     "output_type": "stream",
     "text": [
      "100%|█████████████████████████████████████████████████████████████████████████████████████| 376/376 [00:21<00:00, 17.24it/s]\n"
     ]
    },
    {
     "name": "stdout",
     "output_type": "stream",
     "text": [
      "[87] train loss: 0.0033  valid loss: 1.1573   fan acc: 0.8042   blotch acc: 0.8341   both acc: 0.6698\n"
     ]
    },
    {
     "name": "stderr",
     "output_type": "stream",
     "text": [
      "100%|█████████████████████████████████████████████████████████████████████████████████████| 376/376 [00:21<00:00, 17.22it/s]\n"
     ]
    },
    {
     "name": "stdout",
     "output_type": "stream",
     "text": [
      "[88] train loss: 0.0037  valid loss: 1.1580   fan acc: 0.7952   blotch acc: 0.8289   both acc: 0.6597\n"
     ]
    },
    {
     "name": "stderr",
     "output_type": "stream",
     "text": [
      "100%|█████████████████████████████████████████████████████████████████████████████████████| 376/376 [00:21<00:00, 17.31it/s]\n"
     ]
    },
    {
     "name": "stdout",
     "output_type": "stream",
     "text": [
      "[89] train loss: 0.0032  valid loss: 1.1271   fan acc: 0.8079   blotch acc: 0.8323   both acc: 0.6713\n"
     ]
    },
    {
     "name": "stderr",
     "output_type": "stream",
     "text": [
      "100%|█████████████████████████████████████████████████████████████████████████████████████| 376/376 [00:21<00:00, 17.20it/s]\n"
     ]
    },
    {
     "name": "stdout",
     "output_type": "stream",
     "text": [
      "[90] train loss: 0.0032  valid loss: 1.1505   fan acc: 0.7986   blotch acc: 0.8353   both acc: 0.6653\n"
     ]
    },
    {
     "name": "stderr",
     "output_type": "stream",
     "text": [
      "100%|█████████████████████████████████████████████████████████████████████████████████████| 376/376 [00:21<00:00, 17.21it/s]\n"
     ]
    },
    {
     "name": "stdout",
     "output_type": "stream",
     "text": [
      "[91] train loss: 0.0042  valid loss: 1.1408   fan acc: 0.8027   blotch acc: 0.8413   both acc: 0.6735\n"
     ]
    },
    {
     "name": "stderr",
     "output_type": "stream",
     "text": [
      "100%|█████████████████████████████████████████████████████████████████████████████████████| 376/376 [00:21<00:00, 17.29it/s]\n"
     ]
    },
    {
     "name": "stdout",
     "output_type": "stream",
     "text": [
      "[92] train loss: 0.0037  valid loss: 1.1845   fan acc: 0.7956   blotch acc: 0.8394   both acc: 0.6645\n"
     ]
    },
    {
     "name": "stderr",
     "output_type": "stream",
     "text": [
      "100%|█████████████████████████████████████████████████████████████████████████████████████| 376/376 [00:21<00:00, 17.25it/s]\n"
     ]
    },
    {
     "name": "stdout",
     "output_type": "stream",
     "text": [
      "[93] train loss: 0.0040  valid loss: 1.1345   fan acc: 0.8064   blotch acc: 0.8383   both acc: 0.6769\n"
     ]
    },
    {
     "name": "stderr",
     "output_type": "stream",
     "text": [
      "100%|█████████████████████████████████████████████████████████████████████████████████████| 376/376 [00:21<00:00, 17.26it/s]\n"
     ]
    },
    {
     "name": "stdout",
     "output_type": "stream",
     "text": [
      "[94] train loss: 0.0036  valid loss: 1.1170   fan acc: 0.8038   blotch acc: 0.8371   both acc: 0.6732\n"
     ]
    },
    {
     "name": "stderr",
     "output_type": "stream",
     "text": [
      "100%|█████████████████████████████████████████████████████████████████████████████████████| 376/376 [00:21<00:00, 17.26it/s]\n"
     ]
    },
    {
     "name": "stdout",
     "output_type": "stream",
     "text": [
      "[95] train loss: 0.0037  valid loss: 1.1350   fan acc: 0.7986   blotch acc: 0.8353   both acc: 0.6619\n"
     ]
    },
    {
     "name": "stderr",
     "output_type": "stream",
     "text": [
      "100%|█████████████████████████████████████████████████████████████████████████████████████| 376/376 [00:21<00:00, 17.35it/s]\n"
     ]
    },
    {
     "name": "stdout",
     "output_type": "stream",
     "text": [
      "[96] train loss: 0.0038  valid loss: 1.1482   fan acc: 0.8023   blotch acc: 0.8360   both acc: 0.6709\n"
     ]
    },
    {
     "name": "stderr",
     "output_type": "stream",
     "text": [
      "100%|█████████████████████████████████████████████████████████████████████████████████████| 376/376 [00:21<00:00, 17.28it/s]\n"
     ]
    },
    {
     "name": "stdout",
     "output_type": "stream",
     "text": [
      "[97] train loss: 0.0037  valid loss: 1.1403   fan acc: 0.8038   blotch acc: 0.8401   both acc: 0.6709\n"
     ]
    },
    {
     "name": "stderr",
     "output_type": "stream",
     "text": [
      "100%|█████████████████████████████████████████████████████████████████████████████████████| 376/376 [00:21<00:00, 17.29it/s]\n"
     ]
    },
    {
     "name": "stdout",
     "output_type": "stream",
     "text": [
      "[98] train loss: 0.0042  valid loss: 1.1637   fan acc: 0.8068   blotch acc: 0.8409   both acc: 0.6776\n"
     ]
    },
    {
     "name": "stderr",
     "output_type": "stream",
     "text": [
      "100%|█████████████████████████████████████████████████████████████████████████████████████| 376/376 [00:21<00:00, 17.30it/s]\n"
     ]
    },
    {
     "name": "stdout",
     "output_type": "stream",
     "text": [
      "[99] train loss: 0.0033  valid loss: 1.1723   fan acc: 0.8038   blotch acc: 0.8345   both acc: 0.6653\n"
     ]
    },
    {
     "name": "stderr",
     "output_type": "stream",
     "text": [
      "100%|█████████████████████████████████████████████████████████████████████████████████████| 376/376 [00:21<00:00, 17.25it/s]\n"
     ]
    },
    {
     "name": "stdout",
     "output_type": "stream",
     "text": [
      "[100] train loss: 0.0034  valid loss: 1.2641   fan acc: 0.7956   blotch acc: 0.8360   both acc: 0.6642\n"
     ]
    }
   ],
   "source": [
    "train(100)"
   ]
  }
 ],
 "metadata": {
  "kernelspec": {
   "display_name": "Python 3 (ipykernel)",
   "language": "python",
   "name": "python3"
  },
  "language_info": {
   "codemirror_mode": {
    "name": "ipython",
    "version": 3
   },
   "file_extension": ".py",
   "mimetype": "text/x-python",
   "name": "python",
   "nbconvert_exporter": "python",
   "pygments_lexer": "ipython3",
   "version": "3.10.3"
  },
  "vscode": {
   "interpreter": {
    "hash": "1a92d2b8457fc41311cbd8e949caff77b164fd0e876e0af17f7b04ef8287bb08"
   }
  },
  "widgets": {
   "application/vnd.jupyter.widget-state+json": {
    "state": {},
    "version_major": 2,
    "version_minor": 0
   }
  }
 },
 "nbformat": 4,
 "nbformat_minor": 5
}
